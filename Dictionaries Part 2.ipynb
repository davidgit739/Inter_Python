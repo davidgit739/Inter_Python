{
 "cells": [
  {
   "cell_type": "code",
   "execution_count": 3,
   "id": "2bc292de",
   "metadata": {},
   "outputs": [],
   "source": [
    "europe = { 'spain': { 'capital':'madrid', 'population':46.77 },\n",
    "           'france': { 'capital':'paris', 'population':66.03 },\n",
    "           'germany': { 'capital':'berlin', 'population':80.62 },\n",
    "           'norway': { 'capital':'oslo', 'population':5.084 } }\n"
   ]
  },
  {
   "cell_type": "code",
   "execution_count": 5,
   "id": "cd8b637f",
   "metadata": {},
   "outputs": [
    {
     "name": "stdout",
     "output_type": "stream",
     "text": [
      "paris\n"
     ]
    }
   ],
   "source": [
    "print(europe['france']['capital'])\n"
   ]
  },
  {
   "cell_type": "code",
   "execution_count": 9,
   "id": "125a7930",
   "metadata": {},
   "outputs": [],
   "source": [
    "data = {'capital':'rome', 'population':59.83}"
   ]
  },
  {
   "cell_type": "code",
   "execution_count": 10,
   "id": "ecd9a039",
   "metadata": {},
   "outputs": [],
   "source": [
    "europe['italy'] = data"
   ]
  },
  {
   "cell_type": "code",
   "execution_count": 11,
   "id": "c7eb7f30",
   "metadata": {},
   "outputs": [
    {
     "name": "stdout",
     "output_type": "stream",
     "text": [
      "{'spain': {'capital': 'madrid', 'population': 46.77}, 'france': {'capital': 'paris', 'population': 66.03}, 'germany': {'capital': 'berlin', 'population': 80.62}, 'norway': {'capital': 'oslo', 'population': 5.084}, 'italy': {'capital': 'rome', 'population': 59.83}}\n"
     ]
    }
   ],
   "source": [
    "print(europe)"
   ]
  },
  {
   "cell_type": "code",
   "execution_count": null,
   "id": "440c78d7",
   "metadata": {},
   "outputs": [],
   "source": []
  }
 ],
 "metadata": {
  "kernelspec": {
   "display_name": "Python 3",
   "language": "python",
   "name": "python3"
  },
  "language_info": {
   "codemirror_mode": {
    "name": "ipython",
    "version": 3
   },
   "file_extension": ".py",
   "mimetype": "text/x-python",
   "name": "python",
   "nbconvert_exporter": "python",
   "pygments_lexer": "ipython3",
   "version": "3.8.8"
  }
 },
 "nbformat": 4,
 "nbformat_minor": 5
}
