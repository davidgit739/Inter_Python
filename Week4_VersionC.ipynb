{
 "cells": [
  {
   "cell_type": "code",
   "execution_count": null,
   "id": "39f74866",
   "metadata": {},
   "outputs": [],
   "source": [
    "#version control\n",
    "#github\n",
    "#cloud storage for code\n",
    "#code files can't be opened in in browser google sheets\n",
    "#individual uses github\n",
    "# bitbucket & gitlab \n",
    "#companies use git bucket or gitlab for companies \n",
    "#common is git \n",
    "#need to version control what who when why \n",
    "#git\n",
    "#download git from https://git-scm.com/download/win\n",
    "#create github account \n",
    "#username you can share on CV\n",
    "#17 minute mark on video \n",
    "\n",
    "#git init in cmd will create a hidden git file \n",
    "\n",
    "#git status checks files\n",
    "\n",
    "#git add .\n",
    "\n",
    "#git commit -m \"First Commit\"\n",
    "\n",
    "#then do the git status again and it should appear nothing to commit \n",
    "\n"
   ]
  },
  {
   "cell_type": "code",
   "execution_count": null,
   "id": "8359702e",
   "metadata": {},
   "outputs": [],
   "source": [
    "#extra lines to test second commit "
   ]
  }
 ],
 "metadata": {
  "kernelspec": {
   "display_name": "Python 3",
   "language": "python",
   "name": "python3"
  },
  "language_info": {
   "codemirror_mode": {
    "name": "ipython",
    "version": 3
   },
   "file_extension": ".py",
   "mimetype": "text/x-python",
   "name": "python",
   "nbconvert_exporter": "python",
   "pygments_lexer": "ipython3",
   "version": "3.8.8"
  }
 },
 "nbformat": 4,
 "nbformat_minor": 5
}
