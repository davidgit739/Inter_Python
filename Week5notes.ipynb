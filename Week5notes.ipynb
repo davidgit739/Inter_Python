{
 "cells": [
  {
   "cell_type": "code",
   "execution_count": 2,
   "id": "dc1eed67",
   "metadata": {},
   "outputs": [],
   "source": [
    "import requests\n",
    "\n",
    "data=requests.get(\"http://api.open-notify.org/iss-now.json\")\n"
   ]
  },
  {
   "cell_type": "code",
   "execution_count": 3,
   "id": "232d4fa2",
   "metadata": {},
   "outputs": [],
   "source": [
    "data=data.json()"
   ]
  },
  {
   "cell_type": "code",
   "execution_count": 4,
   "id": "1e1e6982",
   "metadata": {},
   "outputs": [
    {
     "data": {
      "text/plain": [
       "{'iss_position': {'longitude': '-61.2700', 'latitude': '1.7057'},\n",
       " 'timestamp': 1650567831,\n",
       " 'message': 'success'}"
      ]
     },
     "execution_count": 4,
     "metadata": {},
     "output_type": "execute_result"
    }
   ],
   "source": [
    "data"
   ]
  },
  {
   "cell_type": "code",
   "execution_count": 6,
   "id": "d9b42572",
   "metadata": {},
   "outputs": [
    {
     "data": {
      "text/plain": [
       "'-61.2700'"
      ]
     },
     "execution_count": 6,
     "metadata": {},
     "output_type": "execute_result"
    }
   ],
   "source": [
    "data[\"iss_position\"][\"longitude\"]"
   ]
  },
  {
   "cell_type": "code",
   "execution_count": null,
   "id": "f4108d2a",
   "metadata": {},
   "outputs": [],
   "source": [
    "for i in range(10):\n",
    "    print(data[\"people\"][i][\"name\"])\n",
    "print(i)"
   ]
  },
  {
   "cell_type": "code",
   "execution_count": null,
   "id": "38cc1043",
   "metadata": {},
   "outputs": [],
   "source": [
    "#alphavantage\n",
    "#get free api key \n",
    "#check the notebook\n"
   ]
  },
  {
   "cell_type": "code",
   "execution_count": 4,
   "id": "bb9e653b",
   "metadata": {},
   "outputs": [],
   "source": [
    "import requests \n",
    "\n",
    "data = requests.get(\"https://reports.sem-o.com/api/v1/documents/static-reports?DPuG_ID=EA-002&ReportName=ETS%20Bid%20File&ResourceName=BidFile_SEM-IDA1_PWR-SEM-GB&Group=Market%20Data&Date=%3E=2019-02-01%3C=2019-02-28&page=1&page_size=10&sort_by=PublishTime&order_by=ASC\")\n",
    "data=data.json()\n"
   ]
  },
  {
   "cell_type": "code",
   "execution_count": 5,
   "id": "9fb16682",
   "metadata": {},
   "outputs": [
    {
     "data": {
      "text/plain": [
       "{'pagination': {'pageSize': 10,\n",
       "  'currentPage': 1,\n",
       "  'totalItems': 0,\n",
       "  'totalPages': 0,\n",
       "  'sort_by': 'PublishTime',\n",
       "  'order_by': 'ASC'},\n",
       " 'resourceBaseUri': 'http://reports.sem-o.com/documents',\n",
       " 'items': []}"
      ]
     },
     "execution_count": 5,
     "metadata": {},
     "output_type": "execute_result"
    }
   ],
   "source": [
    "data\n"
   ]
  },
  {
   "cell_type": "code",
   "execution_count": null,
   "id": "964ecc7a",
   "metadata": {},
   "outputs": [],
   "source": []
  }
 ],
 "metadata": {
  "kernelspec": {
   "display_name": "Python 3",
   "language": "python",
   "name": "python3"
  },
  "language_info": {
   "codemirror_mode": {
    "name": "ipython",
    "version": 3
   },
   "file_extension": ".py",
   "mimetype": "text/x-python",
   "name": "python",
   "nbconvert_exporter": "python",
   "pygments_lexer": "ipython3",
   "version": "3.8.8"
  }
 },
 "nbformat": 4,
 "nbformat_minor": 5
}
